{
 "cells": [
  {
   "cell_type": "code",
   "execution_count": null,
   "id": "f34b5bf6",
   "metadata": {},
   "outputs": [],
   "source": [
    "# SCRIPT 8.1:\n",
    "# Plotar o gráfico de volatilidade normalizada das 10 maiores criptomoedas em 2023"
   ]
  },
  {
   "cell_type": "code",
   "execution_count": null,
   "id": "e423f992",
   "metadata": {},
   "outputs": [],
   "source": [
    "# PASSO 1 – Instalando Bibliotecas\n",
    "!pip install plotly"
   ]
  },
  {
   "cell_type": "code",
   "execution_count": null,
   "id": "c352f0f7",
   "metadata": {},
   "outputs": [],
   "source": [
    "# PASSO 2 - Importando Bibliotecas\n",
    "import numpy as np\n",
    "import pandas as pd\n",
    "from pandas_datareader import data as wb\n",
    "import plotly.express as px\n",
    "import yfinance as yf"
   ]
  },
  {
   "cell_type": "code",
   "execution_count": null,
   "id": "44216dd8",
   "metadata": {},
   "outputs": [],
   "source": [
    "# PASSO 3 - Baixando todas as cotações da 10 maiores criptomoedas no últimos 5 anos\n",
    "data = yf.download(\"BTC-USD ETH-USD USDT-USD BNB-USD USDC-USD XRP-USD ADA-USD STETH-USD DOGE-USD MATIC-USD\", start=\"2018-5-29\")[\"Adj Close\"]"
   ]
  },
  {
   "cell_type": "code",
   "execution_count": null,
   "id": "366917a5",
   "metadata": {},
   "outputs": [],
   "source": [
    "# PASSO 4 – Normalizar os valores das cotações, passando para a base 100%\n",
    "data_normalizada = (data/ data.iloc[0] * 100)"
   ]
  },
  {
   "cell_type": "code",
   "execution_count": null,
   "id": "6ffd7f71",
   "metadata": {},
   "outputs": [],
   "source": [
    "# PASSO 5 – Utilizar a biblioteca Plotly para plotar as cotações das 10 criptomoedas\n",
    "fig = px.line(data_normalizada, title='Valorização das Criptomoedas')\n",
    "fig.show()"
   ]
  },
  {
   "cell_type": "code",
   "execution_count": null,
   "id": "df24bc41",
   "metadata": {},
   "outputs": [],
   "source": []
  },
  {
   "cell_type": "code",
   "execution_count": null,
   "id": "3aeceb1d",
   "metadata": {},
   "outputs": [],
   "source": []
  },
  {
   "cell_type": "code",
   "execution_count": null,
   "id": "c3aaa0d5",
   "metadata": {},
   "outputs": [],
   "source": [
    "# SCRIPT 8.2: \n",
    "# Analisar a Correlação entre as 10 Maiores Criptomoedas a Partir do Início da Pandemia"
   ]
  },
  {
   "cell_type": "code",
   "execution_count": null,
   "id": "befc05c4",
   "metadata": {},
   "outputs": [],
   "source": [
    "# SCRIPT 8.2: \n",
    "# Analisar a Correlação entre as 10 Maiores Criptomoedas a Partir do Início da Pandemia\n"
   ]
  },
  {
   "cell_type": "code",
   "execution_count": null,
   "id": "0a245826",
   "metadata": {},
   "outputs": [],
   "source": [
    "# PASSO 1 – Instalando Bibliotecas\n",
    "!pip install seaborn"
   ]
  },
  {
   "cell_type": "code",
   "execution_count": null,
   "id": "955a7ad8",
   "metadata": {},
   "outputs": [],
   "source": [
    "# PASSO 2 - Importando Bibliotecas\n",
    "import pandas as pd\n",
    "import yfinance as yf\n",
    "import seaborn as sns\n",
    "import matplotlib.pyplot as plt"
   ]
  },
  {
   "cell_type": "code",
   "execution_count": null,
   "id": "e9e0eef5",
   "metadata": {},
   "outputs": [],
   "source": [
    "# PASSO 3 - Baixando todas as cotações da 10 maiores criptomoedas no últimos 5 anos\n",
    "criptomoedas = ['BTC-USD', 'ETH-USD', 'USDT-USD', 'BNB-USD', 'USDC-USD', 'XRP-USD', 'ADA-USD', 'STETH-USD', 'DOGE-USD', 'MATIC-USD']\n",
    "data = yf.download(criptomoedas, start='2020-03-15')"
   ]
  },
  {
   "cell_type": "code",
   "execution_count": null,
   "id": "2174c02e",
   "metadata": {},
   "outputs": [],
   "source": [
    "# PASSO 4 – Selecionar a coluna “adjusted closing price”\n",
    "adj_close=data['Adj Close']\n",
    "adj_close.head()"
   ]
  },
  {
   "cell_type": "code",
   "execution_count": null,
   "id": "38c7bede",
   "metadata": {},
   "outputs": [],
   "source": [
    "# PASSO 5 – Calculando o retorno de cada criptomoeda\n",
    "returns = adj_close.pct_change().dropna(axis=0)\n",
    "returns.head()"
   ]
  },
  {
   "cell_type": "code",
   "execution_count": null,
   "id": "4dc70997",
   "metadata": {},
   "outputs": [],
   "source": [
    "# PASSO 6 – Obtendo o desvio padrão \n",
    "returns.std()"
   ]
  },
  {
   "cell_type": "code",
   "execution_count": null,
   "id": "c2fb67e5",
   "metadata": {},
   "outputs": [],
   "source": [
    "# PASSO 7 -  Obtendo o retorno cumulativo\n",
    "cum_returns = ((1 + returns).cumprod() - 1) *100\n",
    "cum_returns.head()"
   ]
  },
  {
   "cell_type": "code",
   "execution_count": null,
   "id": "a64b65fa",
   "metadata": {},
   "outputs": [],
   "source": [
    "# PASSO 8 – Calculando a correlação\n",
    "returns.corr()"
   ]
  },
  {
   "cell_type": "code",
   "execution_count": null,
   "id": "ddfbfe9a",
   "metadata": {},
   "outputs": [],
   "source": [
    "# PASSO 9 – Plotando a matriz de correlação\n",
    "sns.heatmap(returns.corr(), annot=True, cmap='coolwarm')\n",
    "plt.show() "
   ]
  },
  {
   "cell_type": "code",
   "execution_count": null,
   "id": "dce35c26",
   "metadata": {},
   "outputs": [],
   "source": []
  }
 ],
 "metadata": {
  "kernelspec": {
   "display_name": "Python 3 (ipykernel)",
   "language": "python",
   "name": "python3"
  },
  "language_info": {
   "codemirror_mode": {
    "name": "ipython",
    "version": 3
   },
   "file_extension": ".py",
   "mimetype": "text/x-python",
   "name": "python",
   "nbconvert_exporter": "python",
   "pygments_lexer": "ipython3",
   "version": "3.10.9"
  }
 },
 "nbformat": 4,
 "nbformat_minor": 5
}
