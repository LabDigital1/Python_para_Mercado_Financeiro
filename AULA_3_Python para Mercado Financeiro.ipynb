{
 "cells": [
  {
   "cell_type": "code",
   "execution_count": null,
   "id": "08b6ce1a",
   "metadata": {},
   "outputs": [],
   "source": [
    "# Script 3.1 – Plotar Gráfico de Ações com Bons Indicadores Fundamentalistas\n",
    "# API do site fundamentus.com.br"
   ]
  },
  {
   "cell_type": "code",
   "execution_count": null,
   "id": "19bcc7f1",
   "metadata": {},
   "outputs": [],
   "source": [
    "# PASSO 1 - Instalando Bibliotecas"
   ]
  },
  {
   "cell_type": "code",
   "execution_count": null,
   "id": "630f2027",
   "metadata": {},
   "outputs": [],
   "source": [
    "!pip install fundamentus\n",
    "!pip install requests-cache"
   ]
  },
  {
   "cell_type": "code",
   "execution_count": null,
   "id": "8fe99842",
   "metadata": {},
   "outputs": [],
   "source": [
    "# PASSO 2 - Importando Bibliotecas"
   ]
  },
  {
   "cell_type": "code",
   "execution_count": null,
   "id": "d4d452f4",
   "metadata": {},
   "outputs": [],
   "source": [
    "import fundamentus\n",
    "import requests_cache\n",
    "import requests\n",
    "import time, logging\n",
    "import pandas as pd\n",
    "import matplotlib.pyplot as plt"
   ]
  },
  {
   "cell_type": "code",
   "execution_count": null,
   "id": "b733d0ab",
   "metadata": {},
   "outputs": [],
   "source": [
    "# PASSO 3 - Baixando Dados das Ações"
   ]
  },
  {
   "cell_type": "code",
   "execution_count": null,
   "id": "f5884b41",
   "metadata": {},
   "outputs": [],
   "source": [
    "df = fundamentus.get_resultado() "
   ]
  },
  {
   "cell_type": "code",
   "execution_count": null,
   "id": "f9e055ed",
   "metadata": {},
   "outputs": [],
   "source": [
    "# PASSO 4 - Filtrar Ações com Base em Parâmetos (Indicadores Fundamentalistas) "
   ]
  },
  {
   "cell_type": "code",
   "execution_count": null,
   "id": "97056d63",
   "metadata": {},
   "outputs": [],
   "source": [
    "filtro =  df[ (df. mrgebit > 0.5) & (df. pvp >1)]"
   ]
  },
  {
   "cell_type": "code",
   "execution_count": null,
   "id": "0073a0bb",
   "metadata": {},
   "outputs": [],
   "source": [
    "# PASSO 5 - Montar o Gráfico"
   ]
  },
  {
   "cell_type": "code",
   "execution_count": null,
   "id": "a8abb64f",
   "metadata": {},
   "outputs": [],
   "source": [
    "plt.figure(figsize = (20, 6));\n",
    "plt.bar(filtro.index, filtro.dy);\n",
    "plt.xticks(rotation = 45);\n",
    "plt.title('Ações da B3 Pagando Dividendos Acima da Taxa SELIC, com PL Abaixo de 10 e Margem EBTIDA Acima de 20%')\n"
   ]
  },
  {
   "cell_type": "code",
   "execution_count": null,
   "id": "9af93fa6",
   "metadata": {},
   "outputs": [],
   "source": []
  },
  {
   "cell_type": "code",
   "execution_count": null,
   "id": "447b7fba",
   "metadata": {},
   "outputs": [],
   "source": []
  },
  {
   "cell_type": "code",
   "execution_count": null,
   "id": "2b2cf040",
   "metadata": {},
   "outputs": [],
   "source": [
    "# Script 3.2 - Plotar Gráfico de Correlação entre Ações"
   ]
  },
  {
   "cell_type": "code",
   "execution_count": null,
   "id": "10490cc7",
   "metadata": {},
   "outputs": [],
   "source": [
    "# PASSO 1 – Instalando Bibliotecas"
   ]
  },
  {
   "cell_type": "code",
   "execution_count": null,
   "id": "86bf4084",
   "metadata": {},
   "outputs": [],
   "source": [
    "!pip install datetime\n",
    "!pip install seaborn"
   ]
  },
  {
   "cell_type": "code",
   "execution_count": null,
   "id": "83823a14",
   "metadata": {},
   "outputs": [],
   "source": [
    "# PASSO 2 – Importando Bibliotecas"
   ]
  },
  {
   "cell_type": "code",
   "execution_count": null,
   "id": "9a4bce74",
   "metadata": {},
   "outputs": [],
   "source": [
    "import datetime as dt \n",
    "import seaborn as sns\n",
    "from pandas_datareader import data as pdr \n",
    "import matplotlib.pyplot as plt \n",
    "import yfinance as yf"
   ]
  },
  {
   "cell_type": "code",
   "execution_count": null,
   "id": "8f15592a",
   "metadata": {},
   "outputs": [],
   "source": [
    "# PASSO 3 – Baixando dados das Ações para um DataFrame"
   ]
  },
  {
   "cell_type": "code",
   "execution_count": null,
   "id": "d65e47eb",
   "metadata": {},
   "outputs": [],
   "source": [
    "data = yf.download(\"PETR4.SA VALE3.SA BBAS3.SA\", start=\"2020-04-08\", end=\"2021-04-10\")[\"Adj Close\"]"
   ]
  },
  {
   "cell_type": "code",
   "execution_count": null,
   "id": "8a5ab195",
   "metadata": {},
   "outputs": [],
   "source": [
    "# PASSO 4 – Calcular Retornos Diários"
   ]
  },
  {
   "cell_type": "code",
   "execution_count": null,
   "id": "b8ce7571",
   "metadata": {},
   "outputs": [],
   "source": [
    "retornos = data.pct_change().dropna()"
   ]
  },
  {
   "cell_type": "code",
   "execution_count": null,
   "id": "f40ad9d2",
   "metadata": {},
   "outputs": [],
   "source": [
    "# PASSO 5 – Criar uma Matriz de Correlação"
   ]
  },
  {
   "cell_type": "code",
   "execution_count": null,
   "id": "b368fc75",
   "metadata": {},
   "outputs": [],
   "source": [
    "correlacao = retornos.corr()\n",
    "plot = sns.heatmap(correlacao, annot=True, fmt='.2f', linewidths=.6)\n",
    "plt.show()\n"
   ]
  }
 ],
 "metadata": {
  "kernelspec": {
   "display_name": "Python 3 (ipykernel)",
   "language": "python",
   "name": "python3"
  },
  "language_info": {
   "codemirror_mode": {
    "name": "ipython",
    "version": 3
   },
   "file_extension": ".py",
   "mimetype": "text/x-python",
   "name": "python",
   "nbconvert_exporter": "python",
   "pygments_lexer": "ipython3",
   "version": "3.10.9"
  }
 },
 "nbformat": 4,
 "nbformat_minor": 5
}
