{
 "cells": [
  {
   "cell_type": "code",
   "execution_count": null,
   "id": "1c6dc8d7",
   "metadata": {},
   "outputs": [],
   "source": [
    "# Script 2.1 - Selecionar Ações de Acordo com o Método Décio Bazin (DY >= 6)\n",
    "# API do site fundamentus.com.br"
   ]
  },
  {
   "cell_type": "code",
   "execution_count": null,
   "id": "433fe902",
   "metadata": {},
   "outputs": [],
   "source": [
    "# PASSO 1 - Instalando Bibliotecas"
   ]
  },
  {
   "cell_type": "code",
   "execution_count": null,
   "id": "fde8846a",
   "metadata": {},
   "outputs": [],
   "source": [
    "!pip install fundamentus\n",
    "!pip install requests-cache"
   ]
  },
  {
   "cell_type": "code",
   "execution_count": null,
   "id": "2ee2ca26",
   "metadata": {},
   "outputs": [],
   "source": [
    "# PASSO 2 - Importando Bibliotecas"
   ]
  },
  {
   "cell_type": "code",
   "execution_count": null,
   "id": "442db4fa",
   "metadata": {},
   "outputs": [],
   "source": [
    "import fundamentus\n",
    "import requests_cache\n",
    "import requests\n",
    "import time, logging\n",
    "import pandas as pd\n",
    "import matplotlib.pyplot as plt"
   ]
  },
  {
   "cell_type": "code",
   "execution_count": null,
   "id": "09db4b68",
   "metadata": {},
   "outputs": [],
   "source": [
    "# PASSO 3 - Baixando Dados das Ações"
   ]
  },
  {
   "cell_type": "code",
   "execution_count": null,
   "id": "550630a2",
   "metadata": {},
   "outputs": [],
   "source": [
    "df = fundamentus.get_resultado() \n"
   ]
  },
  {
   "cell_type": "code",
   "execution_count": null,
   "id": "67a263a6",
   "metadata": {},
   "outputs": [],
   "source": [
    "# PASSO 4 - Filtrar Ações com Base no Pagamento de Dividendos "
   ]
  },
  {
   "cell_type": "code",
   "execution_count": null,
   "id": "a88383ad",
   "metadata": {},
   "outputs": [],
   "source": [
    "filtro1 = df[(df.dy > 0.06)]"
   ]
  },
  {
   "cell_type": "code",
   "execution_count": null,
   "id": "9e9f0ccd",
   "metadata": {},
   "outputs": [],
   "source": [
    "# Filtrar Ações com Base no Pagamento de Dividendos e Lucratividade"
   ]
  },
  {
   "cell_type": "code",
   "execution_count": null,
   "id": "b8dae8cd",
   "metadata": {},
   "outputs": [],
   "source": [
    "filtro2 = df[(df.dy > 0.06) & (df.pl < 10)]"
   ]
  },
  {
   "cell_type": "code",
   "execution_count": null,
   "id": "1570eb08",
   "metadata": {},
   "outputs": [],
   "source": [
    "# Filtrar Ações com Base no Pagamento de Dividendos, Lucratividade e EBITDA"
   ]
  },
  {
   "cell_type": "code",
   "execution_count": null,
   "id": "372c7fe1",
   "metadata": {},
   "outputs": [],
   "source": [
    "filtro3 = df[(df.pl > 0) & (df.mrgebit > 0.4) & (df.dy > 0.06)]\n"
   ]
  },
  {
   "cell_type": "code",
   "execution_count": null,
   "id": "bc17b6d2",
   "metadata": {},
   "outputs": [],
   "source": []
  },
  {
   "cell_type": "code",
   "execution_count": null,
   "id": "51e596a4",
   "metadata": {},
   "outputs": [],
   "source": []
  },
  {
   "cell_type": "code",
   "execution_count": null,
   "id": "60272e91",
   "metadata": {},
   "outputs": [],
   "source": [
    "# Script 2.2 - Plotar um Gráfico do Pagamento de Dividendos de uma Ação nos Últimos anos"
   ]
  },
  {
   "cell_type": "code",
   "execution_count": null,
   "id": "461dfe1d",
   "metadata": {},
   "outputs": [],
   "source": [
    "# Gráfico dos dividendos pagos por ações em um período de tempo utilizando as bibliotecas matplotlib e yfinance.\n",
    "\n",
    "import matplotlib.pyplot as plt\n",
    "import yfinance as yf\n",
    "\n",
    "petr = yf.Ticker(\"PETR4.SA\")\n",
    "\n",
    "data = petr.history(period=\"max\") # onde 'period' pode ser: 1d, 5d, 1mo, 3mo, 6mo, 1y, 2y, 10y, ytd, ou max para todo o historico\n",
    "\n",
    "data = petr.history(start = \"2013-04-06\", end = \"2023-04-06\")\n",
    "\n",
    "titulo = \"Dividendos Pagos pela Petrobras (PETR4) nos Últimos 10 anos\"\n",
    "\n",
    "plt.title(titulo)\n",
    "\n",
    "data.Dividends.plot();"
   ]
  }
 ],
 "metadata": {
  "kernelspec": {
   "display_name": "Python 3 (ipykernel)",
   "language": "python",
   "name": "python3"
  },
  "language_info": {
   "codemirror_mode": {
    "name": "ipython",
    "version": 3
   },
   "file_extension": ".py",
   "mimetype": "text/x-python",
   "name": "python",
   "nbconvert_exporter": "python",
   "pygments_lexer": "ipython3",
   "version": "3.10.9"
  }
 },
 "nbformat": 4,
 "nbformat_minor": 5
}
