{
 "cells": [
  {
   "cell_type": "code",
   "execution_count": null,
   "id": "851abc54",
   "metadata": {},
   "outputs": [],
   "source": [
    "# Script 2.1 - Selecionar Ações de Acordo com o Método Décio Bazin (DY >= 6)\n",
    "# API do site fundamentus.com.br"
   ]
  },
  {
   "cell_type": "code",
   "execution_count": null,
   "id": "b4bda344",
   "metadata": {},
   "outputs": [],
   "source": [
    "# PASSO 1 - Instalando Bibliotecas"
   ]
  },
  {
   "cell_type": "code",
   "execution_count": null,
   "id": "ccef9774",
   "metadata": {},
   "outputs": [],
   "source": [
    "!pip install fundamentus\n",
    "!pip install requests-cache"
   ]
  },
  {
   "cell_type": "code",
   "execution_count": null,
   "id": "ca957425",
   "metadata": {},
   "outputs": [],
   "source": [
    "# PASSO 2 - Importando Bibliotecas# Script 2.1 - Selecionar Ações de Acordo com o Método Décio Bazin (DY >= 6)\n",
    "# API do site fundamentus.com.br"
   ]
  },
  {
   "cell_type": "code",
   "execution_count": null,
   "id": "6bddf552",
   "metadata": {},
   "outputs": [],
   "source": [
    "import fundamentus\n",
    "import requests_cache\n",
    "import requests\n",
    "import time, logging\n",
    "import pandas as pd\n",
    "import matplotlib.pyplot as plt"
   ]
  },
  {
   "cell_type": "code",
   "execution_count": null,
   "id": "7460c871",
   "metadata": {},
   "outputs": [],
   "source": [
    "# PASSO 3 - Baixando Dados das Ações"
   ]
  },
  {
   "cell_type": "code",
   "execution_count": null,
   "id": "346c3c6c",
   "metadata": {},
   "outputs": [],
   "source": [
    "df = fundamentus.get_resultado() \n"
   ]
  },
  {
   "cell_type": "code",
   "execution_count": null,
   "id": "e794ff93",
   "metadata": {},
   "outputs": [],
   "source": [
    "# PASSO 4 - Filtrar Ações com Base no Pagamento de Dividendos "
   ]
  },
  {
   "cell_type": "code",
   "execution_count": null,
   "id": "43498943",
   "metadata": {},
   "outputs": [],
   "source": [
    "filtro1 = df[(df.dy > 0.06)]"
   ]
  },
  {
   "cell_type": "code",
   "execution_count": null,
   "id": "27c8f2ba",
   "metadata": {},
   "outputs": [],
   "source": [
    "# Filtrar Ações com Base no Pagamento de Dividendos e Lucratividade"
   ]
  },
  {
   "cell_type": "code",
   "execution_count": null,
   "id": "b3e107ef",
   "metadata": {},
   "outputs": [],
   "source": [
    "filtro2 = df[(df.dy > 0.06) & (df.pl < 10)]"
   ]
  },
  {
   "cell_type": "code",
   "execution_count": null,
   "id": "652fe859",
   "metadata": {},
   "outputs": [],
   "source": [
    "# Filtrar Ações com Base no Pagamento de Dividendos, Lucratividade e EBITIDA"
   ]
  },
  {
   "cell_type": "code",
   "execution_count": null,
   "id": "5b43b7a6",
   "metadata": {},
   "outputs": [],
   "source": [
    "filtro3 = df[(df.pl > 0) & (df.mrgebit > 0.4) & (df.dy > 0.06)]\n"
   ]
  },
  {
   "cell_type": "code",
   "execution_count": null,
   "id": "9b628348",
   "metadata": {},
   "outputs": [],
   "source": []
  },
  {
   "cell_type": "code",
   "execution_count": null,
   "id": "e0470be1",
   "metadata": {},
   "outputs": [],
   "source": []
  },
  {
   "cell_type": "code",
   "execution_count": null,
   "id": "bc6d9f9c",
   "metadata": {},
   "outputs": [],
   "source": [
    "# Script 2.2 - Plotar um Gráfico do Pagamento de Dividendos de uma Ação nos Últimos anos"
   ]
  },
  {
   "cell_type": "code",
   "execution_count": null,
   "id": "5f8568ae",
   "metadata": {},
   "outputs": [],
   "source": [
    "# Gráfico dos dividendos pagos por ações em um período de tempo utilizando as bibliotecas matplotlib e yfinance.\n",
    "\n",
    "import matplotlib.pyplot as plt\n",
    "import yfinance as yf\n",
    "\n",
    "petr = yf.Ticker(\"PETR4.SA\")\n",
    "\n",
    "data = petr.history(period=\"max\") # onde 'period' pode ser: 1d, 5d, 1mo, 3mo, 6mo, 1y, 2y, 10y, ytd, ou max para todo o historico\n",
    "\n",
    "data = petr.history(start = \"2013-04-06\", end = \"2023-04-06\")\n",
    "\n",
    "titulo = \"Dividendos Pagos pela Petrobras (PETR4) nos Últimos 10 anos\"\n",
    "\n",
    "plt.title(titulo)\n",
    "\n",
    "data.Dividends.plot();"
   ]
  }
 ],
 "metadata": {
  "kernelspec": {
   "display_name": "Python 3 (ipykernel)",
   "language": "python",
   "name": "python3"
  },
  "language_info": {
   "codemirror_mode": {
    "name": "ipython",
    "version": 3
   },
   "file_extension": ".py",
   "mimetype": "text/x-python",
   "name": "python",
   "nbconvert_exporter": "python",
   "pygments_lexer": "ipython3",
   "version": "3.10.9"
  }
 },
 "nbformat": 4,
 "nbformat_minor": 5
}
