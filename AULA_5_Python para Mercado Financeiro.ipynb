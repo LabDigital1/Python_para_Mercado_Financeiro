{
 "cells": [
  {
   "cell_type": "code",
   "execution_count": null,
   "id": "7acf30b1",
   "metadata": {},
   "outputs": [],
   "source": [
    "# Script 5.1 – Baixar os índices administrados pelo Banco Central do Brasil\n",
    "# SGC – Sistema Gerenciador de Séries Temporais do Banco Central - https://www3.bcb.gov.br/sgspub/localizarseries/localizarSeries.do?method=prepararTelaLocalizarSeries\n"
   ]
  },
  {
   "cell_type": "code",
   "execution_count": null,
   "id": "e00d1108",
   "metadata": {},
   "outputs": [],
   "source": [
    "# PASSO 1 – Instalando Novas Bibliotecas\n",
    "!pip install mplcyberpunk\n",
    "!pip install python-bcb"
   ]
  },
  {
   "cell_type": "code",
   "execution_count": null,
   "id": "13986587",
   "metadata": {},
   "outputs": [],
   "source": [
    "# PASSO 2 - Importando Bibliotecas\n",
    "import mplcyberpunk\n",
    "from bcb import currency\n",
    "from bcb import sgs\n",
    "import matplotlib.pyplot as plt\n",
    "import matplotlib.ticker as mtick\n",
    "import matplotlib.dates as mdates\n",
    "from matplotlib.dates import date2num\n",
    "from datetime import datetime\n",
    "from datetime import timedelta"
   ]
  },
  {
   "cell_type": "code",
   "execution_count": null,
   "id": "c937a47e",
   "metadata": {},
   "outputs": [],
   "source": [
    "# PASSO 3 - Baixando os Dados de Índices\n",
    "selic = sgs.get({'selic':432}, start = '2010-01-01')\n",
    "selic\n"
   ]
  },
  {
   "cell_type": "code",
   "execution_count": null,
   "id": "8aee1793",
   "metadata": {},
   "outputs": [],
   "source": [
    "# PASSO 4 – Montar o Gráfico da Selic\n",
    "\n",
    "fig, ax = plt.subplots()\n",
    "\n",
    "plt.style.use(\"cyberpunk\")\n",
    "\n",
    "ax.plot(selic.index, selic['selic'])\n",
    "ax.yaxis.set_major_formatter(mtick.PercentFormatter())\n",
    "ax.grid(False)\n",
    "plt.savefig('selic.png', dpi = 300)\n",
    "\n",
    "plt.show()\n",
    "\n"
   ]
  },
  {
   "cell_type": "code",
   "execution_count": null,
   "id": "1c5652d8",
   "metadata": {},
   "outputs": [],
   "source": []
  },
  {
   "cell_type": "code",
   "execution_count": null,
   "id": "c4e633e5",
   "metadata": {},
   "outputs": [],
   "source": []
  },
  {
   "cell_type": "code",
   "execution_count": null,
   "id": "d81939b3",
   "metadata": {},
   "outputs": [],
   "source": [
    "# Script 5.2 – Baixar os dados das moedas\n",
    "# Website de consulta de cotações do BACEN - https://www.bcb.gov.br/conversao\n"
   ]
  },
  {
   "cell_type": "code",
   "execution_count": null,
   "id": "d7b60b31",
   "metadata": {},
   "outputs": [],
   "source": [
    "# PASSO 1 – Baixando os dados das moedas\n",
    "df_cambio = currency.get(['USD', 'EUR'], start='2000-01-01', end='2023-05-04', side='ask')\n"
   ]
  },
  {
   "cell_type": "code",
   "execution_count": null,
   "id": "553da75e",
   "metadata": {},
   "outputs": [],
   "source": [
    "# PASSO 2 – Montar o gráfico das modas\n",
    "df_cambio.plot(figsize=(12, 6))\n"
   ]
  },
  {
   "cell_type": "code",
   "execution_count": null,
   "id": "b9aa11c3",
   "metadata": {},
   "outputs": [],
   "source": []
  }
 ],
 "metadata": {
  "kernelspec": {
   "display_name": "Python 3 (ipykernel)",
   "language": "python",
   "name": "python3"
  },
  "language_info": {
   "codemirror_mode": {
    "name": "ipython",
    "version": 3
   },
   "file_extension": ".py",
   "mimetype": "text/x-python",
   "name": "python",
   "nbconvert_exporter": "python",
   "pygments_lexer": "ipython3",
   "version": "3.10.9"
  }
 },
 "nbformat": 4,
 "nbformat_minor": 5
}
