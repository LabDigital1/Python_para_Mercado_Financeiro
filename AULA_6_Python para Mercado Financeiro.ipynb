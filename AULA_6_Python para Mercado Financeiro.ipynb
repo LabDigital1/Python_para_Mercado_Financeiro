{
 "cells": [
  {
   "cell_type": "code",
   "execution_count": null,
   "id": "9682460b",
   "metadata": {},
   "outputs": [],
   "source": [
    "# SCRIPT 6.1\n",
    "# Realizar Webscraping a Partir do Site - https://www.fundsexplorer.com.br\n",
    "# Utilizando as bibliotecas requests e beautifulsoup"
   ]
  },
  {
   "cell_type": "code",
   "execution_count": null,
   "id": "9ef5ef84",
   "metadata": {},
   "outputs": [],
   "source": [
    "# PASSO 1 – Instalando Bibliotecas\n",
    "!pip install beautifulsoup4\n",
    "!pip install requests\n",
    "!pip install bs4"
   ]
  },
  {
   "cell_type": "code",
   "execution_count": null,
   "id": "96f19fae",
   "metadata": {},
   "outputs": [],
   "source": [
    "# PASSO 2 - Importando Bibliotecas\n",
    "import requests\n",
    "from bs4 import BeautifulSoup"
   ]
  },
  {
   "cell_type": "code",
   "execution_count": null,
   "id": "92b55024",
   "metadata": {},
   "outputs": [],
   "source": [
    "# PASSO 3 - Baixando Todo o Conteúdo HTML do Site Escolhido\n",
    "site = \"https://www.fundsexplorer.com.br/funds/bcff11\"\n",
    "html = requests.get(site).content\n"
   ]
  },
  {
   "cell_type": "code",
   "execution_count": null,
   "id": "b3ce15d7",
   "metadata": {},
   "outputs": [],
   "source": [
    "# PASSO 4 – Criar um Objeto no BeatifulSoup com Todos Dados do Tipo HTML\n",
    "dados = BeautifulSoup(html, 'html.parser') # indicar para o BeatifulSoup que sao dados do tipo HTML"
   ]
  },
  {
   "cell_type": "code",
   "execution_count": null,
   "id": "aca0ed53",
   "metadata": {},
   "outputs": [],
   "source": [
    "# PASSO 5 – Criar Variáveis\n",
    "preco = dados.find(\"span\", class_= \"price\")\n",
    "ultimo_rendimento = dados.find_all(\"span\", class_ = \"indicator-value\")\n"
   ]
  },
  {
   "cell_type": "code",
   "execution_count": null,
   "id": "f5135b47",
   "metadata": {},
   "outputs": [],
   "source": [
    "# PASSO 6 – Printar Variáveis\n",
    "print(\"Preço: \",preco.text[19:])\n",
    "print(\"Ultimo redimento: \",ultimo_rendimento[1].text[20:])\n"
   ]
  },
  {
   "cell_type": "code",
   "execution_count": null,
   "id": "a896579e",
   "metadata": {},
   "outputs": [],
   "source": []
  },
  {
   "cell_type": "code",
   "execution_count": null,
   "id": "839d306d",
   "metadata": {},
   "outputs": [],
   "source": []
  },
  {
   "cell_type": "code",
   "execution_count": null,
   "id": "24e77abc",
   "metadata": {},
   "outputs": [],
   "source": [
    "# SCRIPT 6.2\n",
    "# Plotar Séries Temporais a Partir de Dados do Yahoo Finance"
   ]
  },
  {
   "cell_type": "code",
   "execution_count": null,
   "id": "9ad78c15",
   "metadata": {},
   "outputs": [],
   "source": [
    "# PASSO 1 – Importando as Bibliotecas\n",
    "import numpy as np\n",
    "import pandas as pd\n",
    "from pandas_datareader import data as wb\n",
    "import matplotlib.pyplot as plt\n",
    "import yfinance as yf"
   ]
  },
  {
   "cell_type": "code",
   "execution_count": null,
   "id": "99531229",
   "metadata": {},
   "outputs": [],
   "source": [
    "# PASSO 2 – Criando o DataFrame\n",
    "data = yf.download(\"VALE3.SA USIM5.SA GGBR4.SA CSNA3.SA\", start=\"2020-1-1\")[\"Adj Close\"]\n"
   ]
  },
  {
   "cell_type": "code",
   "execution_count": null,
   "id": "26d8491a",
   "metadata": {},
   "outputs": [],
   "source": [
    "# PASSO 3 – Plotando o Gráfico\n",
    "data.plot(figsize = (15, 6))\n",
    "plt.show\n"
   ]
  },
  {
   "cell_type": "code",
   "execution_count": null,
   "id": "23dc2b81",
   "metadata": {},
   "outputs": [],
   "source": []
  },
  {
   "cell_type": "code",
   "execution_count": null,
   "id": "ff883dcf",
   "metadata": {},
   "outputs": [],
   "source": []
  }
 ],
 "metadata": {
  "kernelspec": {
   "display_name": "Python 3 (ipykernel)",
   "language": "python",
   "name": "python3"
  },
  "language_info": {
   "codemirror_mode": {
    "name": "ipython",
    "version": 3
   },
   "file_extension": ".py",
   "mimetype": "text/x-python",
   "name": "python",
   "nbconvert_exporter": "python",
   "pygments_lexer": "ipython3",
   "version": "3.10.9"
  }
 },
 "nbformat": 4,
 "nbformat_minor": 5
}
