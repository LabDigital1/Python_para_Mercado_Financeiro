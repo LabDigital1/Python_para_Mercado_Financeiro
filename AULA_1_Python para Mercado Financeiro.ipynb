{
 "cells": [
  {
   "cell_type": "code",
   "execution_count": 1,
   "id": "a5278f29",
   "metadata": {},
   "outputs": [],
   "source": [
    "# Instalando as bibliotecas"
   ]
  },
  {
   "cell_type": "code",
   "execution_count": null,
   "id": "b41fd51e",
   "metadata": {},
   "outputs": [],
   "source": [
    "!pip install yfinance\n",
    "!pip install investpy\n"
   ]
  },
  {
   "cell_type": "code",
   "execution_count": null,
   "id": "17cc2981",
   "metadata": {},
   "outputs": [],
   "source": [
    "# Importando as bibliotecas"
   ]
  },
  {
   "cell_type": "code",
   "execution_count": null,
   "id": "7b1cdbde",
   "metadata": {},
   "outputs": [],
   "source": [
    "import yfinance as yf\n",
    "import pandas as pd\n",
    "import investpy as inv\n"
   ]
  },
  {
   "cell_type": "code",
   "execution_count": null,
   "id": "53be07ca",
   "metadata": {},
   "outputs": [],
   "source": [
    "# Baixar todas as ações dentro do Brasil"
   ]
  },
  {
   "cell_type": "code",
   "execution_count": null,
   "id": "6de4a647",
   "metadata": {},
   "outputs": [],
   "source": [
    "br = inv.stocks.get_stocks(country='brazil')"
   ]
  },
  {
   "cell_type": "code",
   "execution_count": null,
   "id": "b8138cee",
   "metadata": {},
   "outputs": [],
   "source": [
    "# Gerar planilha com todos os tickers"
   ]
  },
  {
   "cell_type": "code",
   "execution_count": null,
   "id": "8f692d2d",
   "metadata": {},
   "outputs": [],
   "source": [
    "br.to_excel(\"todos_tickers_b3.xlsx\")\n",
    "br\n"
   ]
  }
 ],
 "metadata": {
  "kernelspec": {
   "display_name": "Python 3 (ipykernel)",
   "language": "python",
   "name": "python3"
  },
  "language_info": {
   "codemirror_mode": {
    "name": "ipython",
    "version": 3
   },
   "file_extension": ".py",
   "mimetype": "text/x-python",
   "name": "python",
   "nbconvert_exporter": "python",
   "pygments_lexer": "ipython3",
   "version": "3.10.9"
  }
 },
 "nbformat": 4,
 "nbformat_minor": 5
}
