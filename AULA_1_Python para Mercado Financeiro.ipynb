{
 "cells": [
  {
   "cell_type": "code",
   "execution_count": 1,
   "id": "d0ee46ac",
   "metadata": {},
   "outputs": [],
   "source": [
    "# Instalando as bibliotecas"
   ]
  },
  {
   "cell_type": "code",
   "execution_count": null,
   "id": "acc5115d",
   "metadata": {},
   "outputs": [],
   "source": [
    "!pip install yfinance\n",
    "!pip install investpy\n"
   ]
  },
  {
   "cell_type": "code",
   "execution_count": null,
   "id": "86964356",
   "metadata": {},
   "outputs": [],
   "source": [
    "# Importando as bibliotecas"
   ]
  },
  {
   "cell_type": "code",
   "execution_count": null,
   "id": "b1128e86",
   "metadata": {},
   "outputs": [],
   "source": [
    "import yfinance as yf\n",
    "import pandas as pd\n",
    "import investpy as inv\n"
   ]
  },
  {
   "cell_type": "code",
   "execution_count": null,
   "id": "f789b6ab",
   "metadata": {},
   "outputs": [],
   "source": [
    "# Baixar todas as ações dentro do Brasil"
   ]
  },
  {
   "cell_type": "code",
   "execution_count": null,
   "id": "50b01cfb",
   "metadata": {},
   "outputs": [],
   "source": [
    "br = inv.stocks.get_stocks(country='brazil')"
   ]
  },
  {
   "cell_type": "code",
   "execution_count": null,
   "id": "ccc6e523",
   "metadata": {},
   "outputs": [],
   "source": []
  },
  {
   "cell_type": "code",
   "execution_count": null,
   "id": "b42c61a9",
   "metadata": {},
   "outputs": [],
   "source": []
  },
  {
   "cell_type": "code",
   "execution_count": null,
   "id": "7cf2a6ab",
   "metadata": {},
   "outputs": [],
   "source": []
  }
 ],
 "metadata": {
  "kernelspec": {
   "display_name": "Python 3 (ipykernel)",
   "language": "python",
   "name": "python3"
  },
  "language_info": {
   "codemirror_mode": {
    "name": "ipython",
    "version": 3
   },
   "file_extension": ".py",
   "mimetype": "text/x-python",
   "name": "python",
   "nbconvert_exporter": "python",
   "pygments_lexer": "ipython3",
   "version": "3.10.9"
  }
 },
 "nbformat": 4,
 "nbformat_minor": 5
}
