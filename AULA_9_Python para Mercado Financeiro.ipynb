{
 "cells": [
  {
   "cell_type": "code",
   "execution_count": null,
   "id": "695959ea",
   "metadata": {},
   "outputs": [],
   "source": [
    "# SCRIPT 9.1:\n",
    "# Utilizar Machine Learning para Prever o Valor de um Ativo/Ínndice\n",
    "# Prever o valor do IBOVESPA (^BVSP) "
   ]
  },
  {
   "cell_type": "code",
   "execution_count": null,
   "id": "f595783b",
   "metadata": {},
   "outputs": [],
   "source": [
    "# PASSO 1 – Instalando Bibliotecas\n",
    "!pip install sklearn"
   ]
  },
  {
   "cell_type": "code",
   "execution_count": null,
   "id": "deec6124",
   "metadata": {},
   "outputs": [],
   "source": [
    "# PASSO 2 - Importando Bibliotecas\n",
    "import pandas as pd\n",
    "import numpy as np\n",
    "import matplotlib.pyplot as plt\n",
    "from sklearn.linear_model import LinearRegression\n",
    "from sklearn.metrics import r2_score\n",
    "plt.style.use('fivethirtyeight')"
   ]
  },
  {
   "cell_type": "code",
   "execution_count": null,
   "id": "a068d0a2",
   "metadata": {},
   "outputs": [],
   "source": [
    "# PASSO 3 - Baixando os dados (dataset)\n",
    "# baixar no Yahoo Finance - ^BVSP.csv file - salvar no desktop\n",
    "from google.colab import files\n",
    "files.upload()"
   ]
  },
  {
   "cell_type": "code",
   "execution_count": null,
   "id": "dc018b06",
   "metadata": {},
   "outputs": [],
   "source": [
    "# PASSO 4 - Transferir os dados de um arquivo .csv para um DataFrame\n",
    "df = pd.read_csv('^BVSP.csv')"
   ]
  },
  {
   "cell_type": "code",
   "execution_count": null,
   "id": "3a407717",
   "metadata": {},
   "outputs": [],
   "source": [
    "# PASSO 5 - Definir a Coluna \"date\" como index do DataFrame\n",
    "df = df.set_index(pd.DatetimeIndex(df['Date'].values))"
   ]
  },
  {
   "cell_type": "code",
   "execution_count": null,
   "id": "9b5e4fe7",
   "metadata": {},
   "outputs": [],
   "source": [
    "# PASSO 6 - Examinando os dados\n",
    "df"
   ]
  },
  {
   "cell_type": "code",
   "execution_count": null,
   "id": "2f18bddf",
   "metadata": {},
   "outputs": [],
   "source": [
    "# PASSO 7 - Plotar uma linha de regressão linear e o preço de fechamento\n",
    "df2 = df.copy()"
   ]
  },
  {
   "cell_type": "code",
   "execution_count": null,
   "id": "bc92e3be",
   "metadata": {},
   "outputs": [],
   "source": [
    "# PASSO 8 - Criar uma nova coluna chamada \"Numbers\" do número 0 até o final do DataFrame\n",
    "df2['Numbers'] = list(range(0, len(df2)))"
   ]
  },
  {
   "cell_type": "code",
   "execution_count": null,
   "id": "f2741318",
   "metadata": {},
   "outputs": [],
   "source": [
    "# PASSO 9 - Armazenar a coluna \"Numbers\" em uma variável chamada \"X\" como uma lista\n",
    "X = np.array(df2[['Numbers']]) "
   ]
  },
  {
   "cell_type": "code",
   "execution_count": null,
   "id": "efd3d353",
   "metadata": {},
   "outputs": [],
   "source": [
    "# PASSO 10 - Armazenar o preço de fechamento em uma variável chamada \"y\" como uma lista\n",
    "y = df2['Close'].values "
   ]
  },
  {
   "cell_type": "code",
   "execution_count": null,
   "id": "5f0dcd79",
   "metadata": {},
   "outputs": [],
   "source": [
    "# PASSO 11 - Criar e treinar o modelo preditivo de \"Forecast\"\n",
    "lin_model = LinearRegression().fit(X,y)\n",
    "print('Intercept:', lin_model.intercept_)\n",
    "print('Slope:', lin_model.coef_)"
   ]
  },
  {
   "cell_type": "code",
   "execution_count": null,
   "id": "48631a69",
   "metadata": {},
   "outputs": [],
   "source": [
    "# PASSO 12 - Preparar os dados para visualização - armazenar os preços previstos pelo modelo em uma variável chamada \"y_pred\"\n",
    "y_pred = lin_model.coef_ * X + lin_model.intercept_  # formula matematica: y = mx + b"
   ]
  },
  {
   "cell_type": "code",
   "execution_count": null,
   "id": "3868b517",
   "metadata": {},
   "outputs": [],
   "source": [
    "# PASSO 13 - Armazenar os valores estimados em uma nova coluna chamda \"Pred\"\n",
    "df2['Pred'] = y_pred"
   ]
  },
  {
   "cell_type": "code",
   "execution_count": null,
   "id": "ff54bf55",
   "metadata": {},
   "outputs": [],
   "source": [
    "# PASSO 14 - Plotar os dados\n",
    "df2['Pred'].plot()\n",
    "df2['Close'].plot()\n",
    "plt.title('Close Price History')"
   ]
  },
  {
   "cell_type": "code",
   "execution_count": null,
   "id": "d063b8a8",
   "metadata": {},
   "outputs": [],
   "source": [
    "# PASSO 15 - Avaliar a qualidade da previsão do modelo atravês de R2? - R squared - R-quadrado (R2) é uma medida estatística que representa a proporção da variância de uma variável dependente que é explicada por uma variável ou variáveis independentes em um modelo de regressão\n",
    "r2_score(df2['Close'], df2['Pred']) "
   ]
  },
  {
   "cell_type": "code",
   "execution_count": null,
   "id": "f9962305",
   "metadata": {},
   "outputs": [],
   "source": [
    "# PASSO 16 - Prever o preço do ativo para o próximo dia, ou alguns dias no futuro\n",
    "price_forecast_1_day = (lin_model.coef_ * len(df2)+1 + lin_model.intercept_)\n",
    "print(price_forecast_1_day) "
   ]
  },
  {
   "cell_type": "code",
   "execution_count": null,
   "id": "aa3f9ba5",
   "metadata": {},
   "outputs": [],
   "source": []
  },
  {
   "cell_type": "code",
   "execution_count": null,
   "id": "eb58da46",
   "metadata": {},
   "outputs": [],
   "source": []
  }
 ],
 "metadata": {
  "kernelspec": {
   "display_name": "Python 3 (ipykernel)",
   "language": "python",
   "name": "python3"
  },
  "language_info": {
   "codemirror_mode": {
    "name": "ipython",
    "version": 3
   },
   "file_extension": ".py",
   "mimetype": "text/x-python",
   "name": "python",
   "nbconvert_exporter": "python",
   "pygments_lexer": "ipython3",
   "version": "3.10.9"
  }
 },
 "nbformat": 4,
 "nbformat_minor": 5
}
