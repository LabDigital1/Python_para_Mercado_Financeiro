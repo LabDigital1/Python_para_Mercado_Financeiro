{
 "cells": [
  {
   "cell_type": "code",
   "execution_count": null,
   "id": "42b6da81",
   "metadata": {},
   "outputs": [],
   "source": [
    "# SCRIPT 4.1\n",
    "# Plotar Gráfico de Linhas com a Cotação de uma Ação\n",
    "# Utilizando a biblioteca yfinance\n"
   ]
  },
  {
   "cell_type": "code",
   "execution_count": null,
   "id": "0142ba96",
   "metadata": {},
   "outputs": [],
   "source": [
    "# PASSO 1 – Instalando Bibliotecas\n",
    "!pip install pandas_datareader\n",
    "!pip install yfinance"
   ]
  },
  {
   "cell_type": "code",
   "execution_count": null,
   "id": "26b2be34",
   "metadata": {},
   "outputs": [],
   "source": [
    "# PASSO 2 - Importando Bibliotecas\n",
    "import numpy as np\n",
    "import pandas as pd\n",
    "from pandas_datareader import data as wb\n",
    "import matplotlib.pyplot as plt\n",
    "import yfinance as yf"
   ]
  },
  {
   "cell_type": "code",
   "execution_count": null,
   "id": "99f691d2",
   "metadata": {},
   "outputs": [],
   "source": [
    "# PASSO 3 - Baixando as Cotações para um DataFrame\n",
    "\n",
    "tickers = [\"VALE3.SA\", \"USIM5.SA\", \"GGBR4.SA\", \"CSNA3.SA\"]\n",
    "df = pd.DataFrame()\n",
    "for t in tickers:\n",
    "    df[t] = wb.DataReader(t, data_source = \"yahoo\", start =\"2020-1-1\")[\"Adj Close\"]\n"
   ]
  },
  {
   "cell_type": "code",
   "execution_count": null,
   "id": "bc33806e",
   "metadata": {},
   "outputs": [],
   "source": [
    "# PASSO 4 - Montar o Gráfico\n",
    "df.plot(figsize = (15,6))\n",
    "plt.show\n"
   ]
  },
  {
   "cell_type": "code",
   "execution_count": null,
   "id": "0315228f",
   "metadata": {},
   "outputs": [],
   "source": []
  },
  {
   "cell_type": "code",
   "execution_count": null,
   "id": "d328bcc6",
   "metadata": {},
   "outputs": [],
   "source": []
  },
  {
   "cell_type": "code",
   "execution_count": null,
   "id": "e9dc3c0b",
   "metadata": {},
   "outputs": [],
   "source": [
    "# SCRIPT 4.2: \n",
    "# Plotar Gráfico de Velas (Candlestick) com a Cotação de uma Ação\n",
    "# Utilizando as bibliotecas yfinance e mplfinance"
   ]
  },
  {
   "cell_type": "code",
   "execution_count": null,
   "id": "f6b46bc1",
   "metadata": {},
   "outputs": [],
   "source": [
    "# PASSO 1 – Instalando Bibliotecas\n",
    "!pip install mplfinance"
   ]
  },
  {
   "cell_type": "code",
   "execution_count": null,
   "id": "539d2295",
   "metadata": {},
   "outputs": [],
   "source": [
    "# PASSO 2  – Importando bibliotecas\n",
    "import yfinance as yf\n",
    "import mplfinance as mpf\n"
   ]
  },
  {
   "cell_type": "code",
   "execution_count": null,
   "id": "ef4c618c",
   "metadata": {},
   "outputs": [],
   "source": [
    "# PASSO 3 - Baixando as Cotações\n",
    "df = yf.download('PETR4.SA', start= '2023-01-01')\n"
   ]
  },
  {
   "cell_type": "code",
   "execution_count": null,
   "id": "01e5c6b3",
   "metadata": {},
   "outputs": [],
   "source": [
    "# PASSO 4 – Montando o Gráfico de Velas\n",
    "mpf.plot(df, type='candle', volume=True, mav=5, tight_layout=True, style='mike', show_nontrading=True) # média móvel de 5 e de 10 dias, somente os dias de pregão\n"
   ]
  },
  {
   "cell_type": "code",
   "execution_count": null,
   "id": "e1471d35",
   "metadata": {},
   "outputs": [],
   "source": []
  }
 ],
 "metadata": {
  "kernelspec": {
   "display_name": "Python 3 (ipykernel)",
   "language": "python",
   "name": "python3"
  },
  "language_info": {
   "codemirror_mode": {
    "name": "ipython",
    "version": 3
   },
   "file_extension": ".py",
   "mimetype": "text/x-python",
   "name": "python",
   "nbconvert_exporter": "python",
   "pygments_lexer": "ipython3",
   "version": "3.10.9"
  }
 },
 "nbformat": 4,
 "nbformat_minor": 5
}
